{
 "cells": [
  {
   "cell_type": "markdown",
   "metadata": {},
   "source": [
    "# Information theory and the embedding problem for Riemannian manifolds\n",
    "\n",
    "notes on Menon's [print](http://www.dam.brown.edu/people/menon/publications/menon-gsi2021.pdf)"
   ]
  },
  {
   "cell_type": "markdown",
   "metadata": {},
   "source": [
    "___\n",
    "\n",
    "**Abstract.** $\\quad$ This paper provides an introduction to an information theoretic formulation of the embedding problem for Riemannian manifolds developed by Menon. The method is illustrated with a new model for embedding finite metric spaces.\n",
    "\n",
    "___"
   ]
  },
  {
   "cell_type": "markdown",
   "metadata": {},
   "source": [
    "___\n",
    "\n",
    "**Bib**\n",
    "\n",
    "1. [ Berard-Besson-Gallot 1994 ]  $\\quad$ _Embedding Riemannian manifolds by their heat kernel_\n",
    "\n",
    "2. [ Borelli-Jabrane-Lazarus-Thibert ]  $\\quad$ _Flat tori in three-dimensional space and convex integration._\n",
    "\n",
    "3. [ Bourgain 1985 ]  $\\quad$ _On Lipschitz embedding of finite metric spaces in Hilbert space._\n",
    "\n",
    "4. [ Conti-De Lellis-Szekelyhidi 2012 ]  $\\quad$ _$h$-principle and rigidity for $C^{1,\\alpha}$ isometric embeddings_ \n",
    "\n",
    "5. [ De Lellis-Szekelyhidi 2013 ]  $\\quad$ _Dissipative continuous Euler flows_\n",
    "\n",
    "6. [ Friedan 1980 ]  $\\quad$ _Nonlinear models in $2 + \\epsilon$ dimensions._ (thesis citation) \n",
    "\n",
    "7. [ Friedan 1980 ]  $\\quad$ _Nonlinear models in $2 + \\epsilon$ dimensions._ (published) \n",
    "\n",
    "8. [ Gromov 1986 ] $\\quad$ _Partial differential relations._\n",
    "\n",
    "9. [ Gromov 2017 ] $\\quad$ _Geometric, algebraic, and analytic descendants of Nash isometric embedding theorems._\n",
    "\n",
    "10. [ Hamilton 1982 ] $\\quad$ _The inverse function theorem of Nash and Moser._\n",
    "\n",
    "11. [ Hildebrand 2014 ]  $\\quad$ _Canonical barriers on convex cones._\n",
    "\n",
    "12. [ Jaynes 1957 ] $\\quad$ _Information theory and statistical mechanics._\n",
    "\n",
    "13. [ Klainerman 2017 ] $\\quad$ _On Nash's unique contribution to analysis in just three papers_\n",
    "\n",
    "14. [ Menon 2020 ]  $\\quad$ _Gaussian processes, the isometric embedding problem and turbulence._'\n",
    "\n",
    "15. [ Menon 2020 ] $\\quad$ _Gibbs measures for semidefinite programming._\n",
    "\n",
    "16. [ Moser 1966 ] $\\quad$ _A rapidly convergent iteration method and non-linear differential equations II._\n",
    "\n",
    "17. [ Moser 1966 ] $\\quad$ _A rapidly convergent iteration method and non-linear differential equations I._\n",
    "\n",
    "18. [ Naor 2018 ] $\\quad$ _Metric dimension reduction: a snapshot of the Ribe program_\n",
    "\n",
    "19. [ Nash 1954 ] $\\quad$ $C^1$ _isometric imbeddings_\n",
    "\n",
    "20. [ Nash 1956 ] $\\quad$ _The imbedding problem for Riemannian manifolds._\n",
    "\n",
    "21. [ Nelson 1967 ] $\\quad$ _Dynamical theories of Brownian motion_\n",
    "\n",
    "22. [ Witney 1936 ] $\\quad$ _Differentiable manifolds_\n",
    "___"
   ]
  },
  {
   "cell_type": "markdown",
   "metadata": {},
   "source": [
    "_text copied from source verbatim, to be processed / annotated_"
   ]
  },
  {
   "cell_type": "markdown",
   "metadata": {},
   "source": [
    "## 1 .. The embedding problem for Riemannian manifolds "
   ]
  },
  {
   "cell_type": "markdown",
   "metadata": {},
   "source": [
    "The purpose of this paper is to outline an information theoretic formulation of the embedding problem for Riemannian manifolds developed by Menon. The main contribution to date is a unifying viewpoint and several new models. Rigorous analysis and numerical studies of these models will be reported elsewhere.\n",
    "\n",
    "The goal here is to explain in an informal manner the historical context of the problem, the reasons for revisiting Nash's work, and some key ideas in the new approach. A model problem that illustrates some essential ideas is presented."
   ]
  },
  {
   "cell_type": "markdown",
   "metadata": {},
   "source": [
    "The modern definition of a manifold was formalized by Whitney in 1936 [ 22 ]. He defined manifolds as absstract spaces covered by locally compatibile charts, thus providing a rigorous description of the intuitive idea that a manifold is a topological space that \"locally looks like Euclidean space\". Whitney's definition should be contrasted with the 19th centruy idea of manifolds as hypersurfaces in Euclidean space. The embedding problem for differentiable manifold checks the compatibility of these notions. Given an (abstractly defined) differentiable manifold $\\mathcal{M}$, the embedding problem for $\\mathcal{M}$ asks for a smooth map $u : \\mathcal{M} \\to \\mathbb{R}^q$ that is one-to-one and whose derivative $Du(x)$ has full rank at each $x \\in \\mathcal{M}$. "
   ]
  },
  {
   "cell_type": "markdown",
   "metadata": {},
   "source": [
    "An embedded manifold carries a pullback metric, denoted $u^\\sharp e$ where $e$ denotes the identity metric on $\\mathbb{R}^q$. Assume that $\\mathcal{M}$ is a Riemannian manifold equipped with a metric $g$. We say that an embedding $u : \\mathcal{M} \\to \\mathbb{R}^q$ is **_isometric_** if $u^\\sharp e = g$. In any local chart $U$, this is the nonlinear PDE\n",
    "\n",
    "$$\n",
    "(\\star) \\quad. \\quad \\frac{ \\partial u^\\alpha}{ \\partial x^i } \\frac{ \\partial u^\\alpha }{ \\partial x^j } (x)  = g_{ij}(x), \\quad x \\in U, \\quad 1 \\leq i , \\, j \\leq n\n",
    "$$"
   ]
  },
  {
   "cell_type": "markdown",
   "metadata": {},
   "source": [
    "Here $1 \\leq \\alpha \\leq q$ and we sum over repeated indices."
   ]
  },
  {
   "cell_type": "markdown",
   "metadata": {},
   "source": [
    "Modern understanding of this problem begins with the pioneering work of Nash in the 1950s [ 19, 20 ]. His work led to the following results: for $q = n+1$ and $g \\in C^0$ there are infinitely many $C^1$ isometric embeddings (assuming no topological obstructions); when $q \\geq n + n(n+1) / 2 + 5$ and $g \\in C^\\infty$ there are infinitely many $C^\\infty$ isometric embeddings. These values of $q$ are improvements over Nash's work, but follow his techniques ( see Gromov's survery [ 9 ] ) "
   ]
  },
  {
   "cell_type": "markdown",
   "metadata": {},
   "source": [
    "By the 1980s, these problems were thought to have been almost fully settled. Gromov expanded Nash's ideas into the $h$-principle [ 8 ] and the analytical technique in [ 20 ] began a life of its own as a \"hard\" implicit function theorem [ 10 ]. But this view changed about ten years ago when De Lellis and Szekelyhidi adapted the techniques in [ 19 ] to construct counterintuitive low regularity solutions to the Euler equations of fluid mechanics [ 5 ]. This unexpected link leads to troubling questions about our understanding of nonlinear PDE and the foundations of Riemannian geometry. On one hand, they contradict Gromov's view that the embedding theorems have little to do with physics ( see the introduction to [ 8 ] ). On the other hand, $h$-principles for nonlinear PDE use iterative schemes to construct solutions and are independent of Leray's method (energy estimates plus weak compactness implies existence of weak solutions). "
   ]
  },
  {
   "cell_type": "markdown",
   "metadata": {},
   "source": [
    "This somewhat vague idea that motivated [his] work is that the abundance of solutions discovered by Nash ( for the isometric embedding problem ) and De Lellis and Szekelyhidi ( for the Euler equations ) is a form of entropy that can be described by statistical mechanics. The relation between statistical mechanics and the Eulder equations lies in turbulence, since a key issue here is to understand the microscopic origin of the second law of thermodynamics in a classical continuum system. While one does not usually think of embedding as an entropic process, this too is natural with hindsight. Our main conceptual shift is to view embedding as a stochastic process in which an observer makes a copy of a given Riemannian geometry by increasingly accurate estimation of a metric by measurement at finer and finer scales. This is a Bayesian interpretation of embedding that yields a unifying viewpoint towards several applications."
   ]
  },
  {
   "cell_type": "markdown",
   "metadata": {},
   "source": [
    "This interpretation is suited to the interplay between geometry and information theory represented at \"this conference.\" However, prior to the author's work there was no attempt to study $(\\star)$ with probablistic methods (though see [ 1 ] ). Further, the devil lies in the details, since any new attempt must be consistent with past work and must be nailed down with complete rigor. Our work does not yet provide new proofs of the embedding theorems. However, it provides a principled framework to formalize the question \"what does a typical embedding look like?\" This is in contrast with the historical questions \"Does an embedding exist? If so, how smooth is it?\" resolved by Nash and Gromov."
   ]
  },
  {
   "cell_type": "markdown",
   "metadata": {},
   "source": [
    "## 2 ... The role of information theory"
   ]
  },
  {
   "cell_type": "markdown",
   "metadata": {},
   "source": [
    "The embedding theorems are interesting both for their conceptual and technical depth. They arise in apparently unrelated fields and they have been studied by widely disparate techniques. Within mathematics, the methods and results in Nash's two papers are very different. Further, the techniques for embedding graphs and metric spaces, which have mainly been stimulated by applications in computer science, appear to have little relation to the embedding problem for manifolds [ 3, 18 ]. The embedding problem also appears under the guise of the nonlinear sigma models in quantum field theory. In his breakthrough work, Friedan showed that the renormalization of the nonlinear sigma model is the Ricci flow [ 6, 7 ]. However, Friedan's technique, renormalization by expansion in dimension, is notoriously hard to pin down mathematically."
   ]
  },
  {
   "cell_type": "markdown",
   "metadata": {},
   "source": [
    "Such a diversity of methods and applications is bewildering until one recognizes that it offers a route to radical conceptual simplification. In order to obtain a unified treatment, it is necessary to insist on a minimalistic formulation of embedding that does not rely in a fundamental manner on the structure of the space being embedded ( e.g. whether it is a graph, manifold or metric space). Such a formulation must be consistent with both Nash and Friedan's approach to the problem, as well as applications in computer science. This line of reasoning suggests that the appropriate foundation must be information theory - it is the only common thread in the above applications."
   ]
  },
  {
   "cell_type": "markdown",
   "metadata": {},
   "source": [
    "The underlying perspective is as follows. We view embedding as a form of information transfer between a source and an observer. The process of information transfer is complete when all measurements of distances by the observer agree with those at the source. This viewpoint shifts the emphasis from the structure of the space to an investigation of the process by which length is measured. In the Bayesian interpretation, the world is random and both the source and the observer are stochastic processes with well-defined parameters ( we construct these processes on a Gaussian space to be concrete ). Thus, embedding is simply \"replication\" or \"tuning\" and the process of replication is complete when all measurements by the observer and the source agree on a common set of questions ( here it is the question: \"what is the distance between points $x$ and $y$?\" ). From this standpoint, there is no fundamental obstruction to embedding, except that implied by Shannon's channel coding theorem. "
   ]
  },
  {
   "cell_type": "markdown",
   "metadata": {},
   "source": [
    "The challenge then is to implement this viewpoint with mathematical rigor. In order to explain our choice of model, we must riefly review Nash's work. The main idea in [ 19 ] is that when $q = n + 2$ one can relax the PDE $u^\\sharp g = e$ to a space of subsolutions ( \"short maps\" with $v^\\sharp g < e$ ) and then introduce highly structured corrugations(=wrinkle) in the normal directions at increasingly fine scales. This provides an iteration that \"bumps up\" smooth subsolutions toward a solution [ 19 ]. A modification of this argument with a smoothing step yields ( sub-optimal ) $C^{1,\\alpha}$ regularity [ 4 ]. When applied to turbulence, the fundamental idea remains a discrete iteration through a space of smooth subsolutions ( which are subtle to define for the Euler equations ) with the use of smoothing and commutator estimates to ensure convergence. \n",
    "\n",
    "The method in [ 20 ] is completely different. Here Nash introduces a geometric flow, which evolves an immersion and a smoothing operator simultaneously [ 20 ]. It is no longer the case that the immersion is short and at first sight there is no relation between [ 19, 20 ]. Nash saw his technique as a form of feedback control; the modern view of this work as hard implicit function theorems came later, primarily from Moser's school [ 16, 17 ]. In most cases, simpler proofs of results first obtained by these methods are known [ 13 ]."
   ]
  },
  {
   "cell_type": "markdown",
   "metadata": {},
   "source": [
    "A rigid adherence to an information theoretic approach to embedding contradicts Nash's results in the following sense. If all that matters is agreement in the measurement of distances between different copies of a manifold, the historical emphasis in mathematics on the role of codimension and regularity cannot be a fundamental feature of the problem. (J: as the question itself still intrinsic to manifold). all embeddings are just copies of the same object, an abstractly defined manifold. \n",
    "\n",
    "\"Typical\" embeddings of the manifold $(\\mathcal{M}^n, g)$ in $\\mathbb{R}^p$ and $\\mathbb{R}^q$ for $p,q \\geq n$ should have different regularity: a $C^\\infty$ metric $g$ may yield a crumpled embedding in $\\mathbb{R}^p$ and a smooth embedding in $\\mathbb{R}^q$ for $p < q$, but since it is only the measurement of length that matters, there is no preferred embedding. Thus, existence and regularity of solutions to $(\\star)$ must be treated separately. (J: regularity is probably _determined_ by (entropy of?) space of underlying solutions. "
   ]
  },
  {
   "cell_type": "markdown",
   "metadata": {},
   "source": [
    "This mathematical distinction acquires salience from its physical meaning. While Wilson renormalization is often interpreted as a technique for integrating out frequencies scale-by-scale, it reflects the role of gauge invariance in the construction of a physical theory. The only true measurements are those that are independent of the observer. Therefore, in order to ensure consistency between mathematical and physical approaches to the isometric embedding proble it is necessary to develop a unified theory of embeddings that does not rely on codimension. Nash's methods do not meet this criterion."
   ]
  },
  {
   "cell_type": "markdown",
   "metadata": {},
   "source": [
    "Finally embedding theorems may be used effectively in engineering only if the rigorous formulation can be supported by fast numerical methods. Here too Nash's techniques fail the test. The first numerical computations of isometric embeddings are relatively recent [ 2 ]. Despite the inspiring beauty of these images, they require a more sophisticated computational effort than is appropriate for a problem of such a fundamental nature. The numerical scheme in [ 2 ] is ultimately based on [ 19 ]. Thus, it requires the composition of functions, which is delicate to implement accurately. The models proposed below require only semidefinite programming and the use of Markov Chain Monte Carlo, both of which are standard techniques, supported by excellent software. "
   ]
  },
  {
   "cell_type": "markdown",
   "metadata": {},
   "source": [
    "These remarks appear to be deeply critical of Nash's work, but the truth is more mysterious. The imposition of stringent constraints - consistency with applications, physics and numerical methods - has the opposite effect. It allows us to strip Nash's techniques down to their essence, revealing the robustness of his fundamental insights. By using information theory to mediate between these perspectives, we obtain a new method in the statistical theory of fields."
   ]
  },
  {
   "cell_type": "markdown",
   "metadata": {},
   "source": [
    "## Renormalization group (RG) flows"
   ]
  },
  {
   "cell_type": "markdown",
   "metadata": {},
   "source": [
    "The structure of \"our\" method is as follows. Many hard constraint systems and nonlinear PDE such as $u^\\sharp e = g$ admit relaxations to subsolutions. We will begin with a subsolution and improve it to a solution by adding fluctuations in a bandlimited manner. These ideas originate in Nash;s work [ 19, 20 ]. We sharpen his procedure as follows:\n",
    "\n",
    "1. The space of subsolutions is augmented with a Gaussian filter. Our unknown is a Gaussssian measure $\\mu_t = (u_t, L_t)$ with mean $u_t$ and covariance $L_t$, $t \\in [0,\\infty)$. In physical terms, the unknown is a thermal system.\n",
    "\n",
    "2. We introduce a stochastic flow such that $u_t$ satisfies an Ito SDE, whereas $L_t$ evolves differentiably. The use of stochastic calculus allows us to interpolate between the discrete time iteration in [ 19 ] and the $C^1$ time evolution in $[ 20 ]$. It replaces Nash's feedback control method with stochastic control theory.\n",
    "\n",
    "3. We apply the modeling principles of continuum mechanics - a separation between kinematics and energetics - to obtain a semidefinite program (SDP) for the covariance of the Ito SDE.\n",
    "\n",
    "4. A principled resolution of the SDP is the most subtle part of the problem. This is an ill-posed problem that is resolved following Jaynes argument [ 12 ]. For each choice of prior, one obtains a Gibbs measure for the SDP. In physical terms, this corresponds to an equation of state."
   ]
  },
  {
   "cell_type": "markdown",
   "metadata": {},
   "source": [
    "This approach yields a new class of stochastic flows, or equivalently Fokker-Planck equations, on a state space of Gaussian measures. These are the RG flows. Here, \"time\" $t$ is the energy scale. The mean $u_t$ of $\\mu_t$ evolves stochastically, whereas the covariance $L_t$ increases differentiably. The flows are designed so that the existence of $\\lim_{t \\to \\infty} (u_t, :_t)$ is trivial. (J: does this use martingale convergence?) The law of $(u_\\infty, L_\\infty)$ is the Gibbs measure associated to the RG flow. The hard work lies in showing that the limiting Gibbs measure is supported on solutions, not subsolutions. "
   ]
  },
  {
   "cell_type": "markdown",
   "metadata": {},
   "source": [
    "The RG flows model quasistatic equilibration of the thermal system $\\mu_t$. This is perhaps the most traditional thermodynamic picture of the flow of heat, dating back to Clausius, Gibbs and Maxwell. What is new is the mathematical structure. The monotonic increase in $L_t$ is kinematically matched to the stochastic evolution of $u_t$. \n",
    "\n",
    "The mean and covariance evolve on different time-scales, so that the system is always in local equilibrium. This insight originates in Nelson's derivation of the heat equation [ 21 ]. However, unlike Nelson, we rely only on information theory. The flows are designed so that $\\cdot{L}_t$ is always the \"most symmetric\" fluctuation field with respect to the prior. This offers a rigorous route to Wilson renormalization, in a manner that is distinct from Friedan's work."
   ]
  },
  {
   "cell_type": "markdown",
   "metadata": {},
   "source": [
    "This formalism unifies the isometric embedding problem for Riemannian manifolds with the isometric embedding of graphs and metric spaces. The embedding of the manifold is the continuum limit of embeddings of geodesic triangulations of the manifold. This idea may be further simplified by ignoring topology altogether, focusing on distance alone. In what follows, we illustrate our ideas with RG flows for metric space embeddings. PDE such as $(\\star)$ have an analogous formulation. However, their analysis is still in a preliminary stage [ 14 ]."
   ]
  },
  {
   "cell_type": "markdown",
   "metadata": {},
   "source": [
    "## 4 ... Isometric embedding of finite metric spaces into $\\mathbb{R}^q$ "
   ]
  },
  {
   "cell_type": "markdown",
   "metadata": {},
   "source": [
    "An isometric embedding of a finite metric space $(K, \\rho)$ into $\\mathbb{R}^q$ is a solution to the system of equations\n",
    "\n",
    "$$\n",
    "(\\star\\star)\\quad.\\quad u : K \\to \\mathbb{R}^q, \\quad | u(x) - u(y) | = \\rho(x,y), \\quad x,y \\in K, \\quad x \\neq y\n",
    "$$"
   ]
  },
  {
   "cell_type": "markdown",
   "metadata": {},
   "source": [
    "Equation $(\\star\\star)$ is a hard constraint system that may not have a solution. For example, an equilateral triangle cannot be embedded into $\\mathbb{R}$. It is necessary to relax the problem. Following Nash [ 19 ], let us say that a map $v : K \\to \\mathbb{R}^q$ is **_short_** if \n",
    "\n",
    "$$\n",
    "|v(x)- v(y)| < \\rho(x,y)\n",
    "$$\n",
    "\n",
    "for each pair of distinct points $x,y \\in K$."
   ]
  },
  {
   "cell_type": "markdown",
   "metadata": {},
   "source": [
    "Let $\\mathbb{P}(n,q)$ denote the space of covariance tensors for $\\mathbb{R}^q$-valued Gaussian processes on $K$. The state space for our stochastic flow is\n",
    "\n",
    "$$\n",
    "\\mathcal{S}_q = \\{ (u, L) \\in \\mathbb{R}^{nq} \\times \\mathbb{P}(n,q) \\}.\n",
    "$$\n",
    "\n",
    "The space $\\mathcal{S}_q$ is a differentiable manifold. We denote points by $(\\, u^i(x), L^{ij}(x,y) \\,)$, with $x,y \\in K$ and $1 \\leq i , \\, j \\leq q$. The **_RG flow_** is the Ito SDE on $\\mathcal{S}_q$\n",
    "\n",
    "$$\n",
    "(\\star_{\\textrm{stochastic flow}}) \\quad.\\quad \\textrm{d} u_t = \\sqrt{ \\textrm{d} L_t } , \\quad \\dot{L}_t = C(u_t, L_t),\n",
    "$$\n",
    "\n",
    "where $C = C(u, L)$ is the covariance matrix defined below. We build up to this structure, separating the kinematics, energetics and SDP. The notation $\\sqrt{\\textrm{d}L}$ means that the covariance of the mean-zero noise is given by\n",
    "\n",
    "$$\n",
    "(\\star_{\\textrm{noise cov}}) \\quad.\\quad \\textrm{d} u(x)^i \\textrm{d} u(y)^j = C(x,y)^{ij} dt , \\quad x, y \\in K, \\quad 1 \\leq i , j \\leq q .\n",
    "$$\n",
    "\n",
    "\n"
   ]
  },
  {
   "cell_type": "markdown",
   "metadata": {},
   "source": [
    "Equivalently, the generator of the stochastic flow, $(\\star_{\\textrm{stochastic flow}})$ acts on $\\psi \\in C^2(\\mathcal{S}_q)$ by\n",
    "\n",
    "$$\n",
    "\\mathcal{L} \\psi = \\sum_{i,\\,j=1}^q \\sum_{x,\\,y \\, \\in\\, K} C^{ij}(x,y) \n",
    "    \\left( \n",
    "    \\frac{1}{2}\n",
    "    \\frac{ \\partial^2 \\psi }{ \\partial u^i(x) \\partial u^j(y) } + \\frac{ \\partial \\psi }{ \\partial L^{ij} (x,y) }\n",
    "    \\right)\n",
    "$$\n"
   ]
  },
  {
   "cell_type": "markdown",
   "metadata": {},
   "source": [
    "Given a volume form $\\textrm{D}\\mu$ on $\\mathcal{S}_q$, the Fokker-Planck equation is obtained by duality by computing the adjoint $\\mathcal{L}^*$. Volume form for natural metrics may be found in [ 15 ]. \n",
    "\n",
    "The above structure is analogous to Nash's work in the following sense:\n",
    "\n",
    "* (a) $\\quad$ The joint evolution of $(u_t, L_t)$ corresponds to the joint evolution of the approximate solution and smoothing operator as in [ 20 ]. Low rank kernels $L_t$ provide a finite-dimensional analog of smooothing.\n",
    "\n",
    "* (b) $\\quad$ The space $L_t$ is also a source of fluctuations as in [ 19 ]. It may be seen as a thermal bath that co-evolves with the mean $u_t$. Equivalently, $T_{L_t} \\mathbb{P} (n,q)$ determine the space of admissible controls. "
   ]
  },
  {
   "cell_type": "markdown",
   "metadata": {},
   "source": [
    "Other aspects of our model, such as the use of stochastic calculus, Gibbs measures and SDP have no relation to past work in the area. We design $C(u,L)$ so that it is a Lipschitz function and $C(u,L) \\equiv 0$ when $u$ is short. Existence and uniqueness of strong solutions to $(\\star_{\\textrm{stochastic flow}})$ follow from standard theory. Convergence as $t \\to \\infty$ is straightforward too. The covariance $L_t$ increases monotonically in the Loewner order and is bounded. Thus, $\\lim_{t\\to \\infty} L_t$ exists. The subsolutions $u_t$ are bounded martingales and converge a.s. by the martingale convergence theorem. The crux of the matter is a careful choice of C(u,L)."
   ]
  },
  {
   "cell_type": "markdown",
   "metadata": {},
   "source": [
    "Assume $u$ is short and assume that $L$ is given. We must choose $C(u,L)$ so that it \"bumps up\" a subsolution to compensate for the **_metric defect_**\n",
    "\n",
    "$$\n",
    "M(x,y) = \\rho^2(x,y) - | u(x) - u(y) |^2 , \\quad x,y \\in K\n",
    "$$"
   ]
  },
  {
   "cell_type": "markdown",
   "metadata": {},
   "source": [
    "The requirement that $L(t) \\in \\mathbb{P}(n)$ changes differentiably is imposed by the Cameron-Martin theorem. When designing $(\\star_{\\textrm{noise cov}})$ we must select $\\dot{L}$ from all possible $Q \\in T_L \\mathbb{P}(n)$ such that $Q$ is also a covariance tensor (written $Q \\geq 0$). Given $L \\in \\mathbb{P}(n,q)$ and a covariance tensor $Q \\in T_L \\mathbb{P}(n,q)$ the stochastic kinematics are \n",
    "\n",
    "$$\n",
    "\\textrm{d} u^\\ell (x) \\textrm{d} u^m (y) = Q^{\\ell m} (x,y) \\textrm{d} t, \\quad x,y \\in K, \\quad x \\neq y, \\quad 1 \\leq \\ell, m \\leq q.\n",
    "$$"
   ]
  },
  {
   "cell_type": "markdown",
   "metadata": {},
   "source": [
    "Each $Q(x,y)$ is a $q \\times q$ matrix. The \"bump up\" is provided by the Ito correction\n",
    "\n",
    "$$\n",
    "\\textrm{d} | u(x) - u(y) |^2 \n",
    "    = \n",
    "        2 ( \\, u(x) - u(y) \\, )\n",
    "        \\cdot ( \\, \\textrm{d} u(x) - \\textrm{d} u(y) \\, ) \n",
    "        + {\\large{\\diamond}} Q \\textrm{d} t \n",
    "$$\n",
    "\n",
    "where we have defined the operator\n",
    "\n",
    "$$\n",
    "( {\\large{\\diamond}} Q ) (x,y) \n",
    "    = \n",
    "        \\sum_{ j=1}^q \\left( \\, Q^{jj}(x,x) + Q^{jj}(y,y) - 2Q^{jj}(x,y) \\right).\n",
    "$$"
   ]
  },
  {
   "cell_type": "markdown",
   "metadata": {},
   "source": [
    "Since our goal is to steer a short solution $(u_t, L_t)$ to a solution to an isometric embedding, as defined above, it is natural to choose $Q$ such that ${\\large{\\diamond}} Q(x,y) = M(x,y)$ (this is the simplest energetic rule). However, this equation may not have a solution, so we consider the convex set $\\mathcal{P} \\subset T_L \\mathbb{P}(n,q)$ defined by \n",
    "\n",
    "$$\n",
    "\\{ \\,{\\large{\\diamond}} Q(x,y) \\leq M(x,y) ,\\quad x,\\,y \\in K, \\, x \\neq y \\, \\}\n",
    "$$"
   ]
  },
  {
   "cell_type": "markdown",
   "metadata": {},
   "source": [
    "The last step is to make a principled choice amongst $Q \\in \\mathcal{P}$. A natural choice is\n",
    "\n",
    "$$\n",
    "C = \\textrm{argmin}_{Q \\in \\mathcal{P}} F_{\\mathcal{P}}(Q),\n",
    "$$\n",
    "\n",
    "where $F_{\\mathcal{P}}$ is the _canonical barrier_ associated to the convex set $\\mathcal{P}$ [ 11 ]. In the terminology of linear programming, $C$ is the _analytic center_ of the convex set of $\\mathcal{P}$. Other choices are possible. For example, we may introduce Gibbs measures on $T_L \\mathbb{P}(n)$ that have the density\n",
    "\n",
    "$$\n",
    "p_\\beta(Q) = \\frac{1}{Z_\\beta} e^{-\\beta E_M(Q) }, \\quad Z_\\beta = \\int_{T_L\\mathbb{P}(n)} e^{-\\beta E_M(Q)} \\textrm{D} Q, \\quad C = \\int_{T_L \\mathbb{P}(n)} Q_{p_\\beta}(Q) \\textrm{D} Q\\,,\n",
    "$$"
   ]
  },
  {
   "cell_type": "markdown",
   "metadata": {},
   "source": [
    "where the energies $E_M$ replace the constraints ${\\large{\\diamond}} Q \\leq M$ with penalties (we set $E_M(Q) = +\\infty$ when $Q$ is not positive semidefinite).\n",
    "\n",
    "The importance of the expression for $C$ above is its minimalism. The barrier $F_{\\mathcal{P}}$ is a convex function on $\\mathcal{P}$ whose Hessian $\\textrm{D}^2F_{\\mathcal{P}}$ provides a canonical Riemannian metric on $\\mathcal{P}$. It provides a natural microcanonical, or hard-constraint model for embedding. In each of these models, the covariance $C(u,L)$ is the \"most symmetric\" choice at scale $t$. This is why the expression for $C$ is called renormalization group flow."
   ]
  },
  {
   "cell_type": "markdown",
   "metadata": {},
   "source": [
    "## 5 ... Isometric embedding of metric graphs into $\\mathbb{R}^q$"
   ]
  },
  {
   "cell_type": "markdown",
   "metadata": {},
   "source": [
    "Assume given a graph $G =(V,E)$ with a distance function $\\rho : E \\to (0,\\infty)$. When an edge is directed, we write $e_+$ and $e_-$ for its head and tail vertices. An isometric embedding of the graph into $\\mathbb{R}^q$ is a solution to \n",
    "\n",
    "$$\n",
    "u : V \\to \\mathbb{R}^q, \\quad | u(e_+) - u(e_-) | = \\rho(e), \\quad e \\in \\mathcal{E}\n",
    "$$"
   ]
  },
  {
   "cell_type": "markdown",
   "metadata": {},
   "source": [
    "We say $v : V \\to \\mathbb{R}^q$ is short if $| v(e_+) - v(e_-) | < \\rho(e)$ for every $e \\in E$. As before, we begin with short mapss and then add stochastic fluctuations to push upwards. \n",
    "\n",
    "What changes is our ability to \"compress\" the embedding using the topology of the graph. Rather than consider an $\\mathbb{R}^q$ valued fluctuation field, the stochastic kinematics are governed by scalar Gaussian fluctuation fields. Let $\\mathbb{P}(V)$ denote the space of positive definite matrices indexed by $V$. Given $u : V \\to \\mathbb{R}^q$ with $|u(e_-) - u(e_+) | > 0$ for each $e \\in E$ and a scalar field $\\varphi : V \\to \\mathbb{R}$ we define the gradient of $\\varphi$ to be the vector field\n",
    "\n",
    "$$\n",
    "\\nabla_u \\varphi : V \\to \\mathbb{R}^q , \\quad \\nabla_u\\varphi(x) = \\sum_{y \\sim x } \\frac{ \\varphi(y) - \\varphi(x) }{ | u(y) - u(x)| } \\frac{u(y) - u(x) }{| u(y) - u(x) |} .\n",
    "$$"
   ]
  },
  {
   "cell_type": "markdown",
   "metadata": {},
   "source": [
    "Given a centered Gaussian process $\\varphi : V \\to \\mathbb{R}$ with covriance $Q \\in \\mathbb{P}(V)$ and a map $u$ as above, we define the operator ${\\large{\\diamond}}_u : \\mathbb{P}(V) \\to \\mathbb{R}_+^E$ by \n",
    "\n",
    "$$\n",
    "{\\large{\\diamond}}_u Q(e) = \\mathbb{E} |\\, \\nabla_u \\varphi(e_+) - \\nabla_u \\varphi(e_-) \\,|^2 \\, \\quad e \\in E\n",
    "$$"
   ]
  },
  {
   "cell_type": "markdown",
   "metadata": {},
   "source": [
    "The expression of the $\\large{\\diamond}_u$ operator at each edge is a little involved, but it is immediate from its definition that it is linear in $Q$ and it maps positive definite covariance tensors to a strictly positive function on $E$. The state space of our stochastic dynamical system iis \n",
    "\n",
    "$$\n",
    "\\mathcal{S}_G = \\{ \\, (u, L) | u : V \\to \\mathbb{R}^q, \\, L \\in \\mathbb{P}(V) \\, \\}\n",
    "$$"
   ]
  },
  {
   "cell_type": "markdown",
   "metadata": {},
   "source": [
    "We assume $Q \\in T_L \\mathbb{P}(V)$, $\\textrm{d}\\varphi(x) \\textrm{d} \\varphi(y) = Q(x,y) \\textrm{d}t$ and compute the change in length for each edge $e \\in E$ using Ito's formula and the relation $\\textrm{d}u (x) = \\nabla_u \\textrm{d} \\varphi(x)$ to find that the expected bump upwards at each edge is ${\\large{\\diamond}}_u Q(e) \\textrm{d}t$. \n",
    "\n",
    "The energetic rule analogous to the metric defect is a map $M(e,v)$ that associated to each short map $v$ a positive weight $M(e;v)$ on each edge $e$. A concrete example of such an energetic rule is the metric defect\n",
    "\n",
    "$$\n",
    "M(e;v) = \\rho(e)^2 - | \\,v(e_+) - v(e_-) \\,|^2, \\, e \\in E\n",
    "$$\n",
    "\n",
    "The convex set $\\mathcal{P}$ is then the set of $Q \\in T_L \\mathbb{P}(V)$ such that \n",
    "\n",
    "$$\n",
    "( {\\large{\\diamond}}_u Q) (e) \\leq M(e) , \\quad e \\in E.\n",
    "$$\n",
    "\n"
   ]
  },
  {
   "cell_type": "markdown",
   "metadata": {},
   "source": [
    "In summary, the principles used to derive the stochastic flows now yield\n",
    "\n",
    "$$\n",
    "\\textrm{d} u (x) = \\nabla_u \\textrm{d} \\varphi, \\quad \\textrm{d} \\varphi(x) \\textrm{d} \\varphi(y) = C dt, \\quad C = \\textrm{argmin}_{Q \\in \\mathcal{P}} F_{\\mathcal{P}}(Q)\n",
    "$$\n",
    "\n",
    "We may further relax the hard constraint models to soft constraints as in (12). The generator and the Fokker-Planck equations are obtained by Ito's formula and duality."
   ]
  },
  {
   "cell_type": "markdown",
   "metadata": {},
   "source": []
  }
 ],
 "metadata": {
  "kernelspec": {
   "display_name": "Python 3",
   "language": "python",
   "name": "python3"
  },
  "language_info": {
   "codemirror_mode": {
    "name": "ipython",
    "version": 3
   },
   "file_extension": ".py",
   "mimetype": "text/x-python",
   "name": "python",
   "nbconvert_exporter": "python",
   "pygments_lexer": "ipython3",
   "version": "3.8.5"
  }
 },
 "nbformat": 4,
 "nbformat_minor": 4
}
